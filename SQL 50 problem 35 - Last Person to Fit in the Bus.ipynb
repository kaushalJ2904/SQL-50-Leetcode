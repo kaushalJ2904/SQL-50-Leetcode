{
 "cells": [
  {
   "cell_type": "code",
   "execution_count": 0,
   "metadata": {
    "application/vnd.databricks.v1+cell": {
     "cellMetadata": {
      "byteLimit": 2048000,
      "rowLimit": 10000
     },
     "inputWidgets": {},
     "nuid": "78f40a48-4ad4-4536-aca7-6000a3135d93",
     "showTitle": false,
     "title": ""
    }
   },
   "outputs": [],
   "source": [
    "\n",
    "import pyspark.sql.functions as F\n",
    "from pyspark.sql.types import StructType, StructField, IntegerType, StringType\n",
    "from pyspark.sql.window import Window\n"
   ]
  },
  {
   "cell_type": "code",
   "execution_count": 0,
   "metadata": {
    "application/vnd.databricks.v1+cell": {
     "cellMetadata": {
      "byteLimit": 2048000,
      "rowLimit": 10000
     },
     "inputWidgets": {},
     "nuid": "5f16f779-b995-4e59-b485-fcea3ba5b2b1",
     "showTitle": false,
     "title": ""
    }
   },
   "outputs": [
    {
     "output_type": "stream",
     "name": "stdout",
     "output_type": "stream",
     "text": [
      "+---------+-----------+------+----+\n|person_id|person_name|weight|turn|\n+---------+-----------+------+----+\n|        5|      Alice|   250|   1|\n|        4|        Bob|   175|   5|\n|        3|       Alex|   350|   2|\n|        6|  John Cena|   400|   3|\n|        1|    Winston|   500|   6|\n|        2|      Marie|   200|   4|\n+---------+-----------+------+----+\n\n"
     ]
    }
   ],
   "source": [
    "\n",
    "# Define schema for the DataFrame\n",
    "schema = StructType([\n",
    "    StructField(\"person_id\", IntegerType(), True),\n",
    "    StructField(\"person_name\", StringType(), True),\n",
    "    StructField(\"weight\", IntegerType(), True),\n",
    "    StructField(\"turn\", IntegerType(), True)\n",
    "])\n",
    "\n",
    "# Data\n",
    "data = [\n",
    "    (5, \"Alice\", 250, 1),\n",
    "    (4, \"Bob\", 175, 5),\n",
    "    (3, \"Alex\", 350, 2),\n",
    "    (6, \"John Cena\", 400, 3),\n",
    "    (1, \"Winston\", 500, 6),\n",
    "    (2, \"Marie\", 200, 4)\n",
    "]\n",
    "\n",
    "# Create DataFrame\n",
    "df = spark.createDataFrame(data, schema)\n",
    "\n",
    "# Show DataFrame\n",
    "df.show()"
   ]
  },
  {
   "cell_type": "code",
   "execution_count": 0,
   "metadata": {
    "application/vnd.databricks.v1+cell": {
     "cellMetadata": {
      "byteLimit": 2048000,
      "rowLimit": 10000
     },
     "inputWidgets": {},
     "nuid": "f5067603-bc78-4691-b753-730978a7d7ee",
     "showTitle": false,
     "title": ""
    }
   },
   "outputs": [],
   "source": [
    "\n",
    "df.createOrReplaceTempView('queue')\n"
   ]
  },
  {
   "cell_type": "markdown",
   "metadata": {
    "application/vnd.databricks.v1+cell": {
     "cellMetadata": {},
     "inputWidgets": {},
     "nuid": "3e118c84-4d41-4ea9-b790-5da72005bb36",
     "showTitle": false,
     "title": ""
    }
   },
   "source": [
    "#### PySpark Approach"
   ]
  },
  {
   "cell_type": "code",
   "execution_count": 0,
   "metadata": {
    "application/vnd.databricks.v1+cell": {
     "cellMetadata": {
      "byteLimit": 2048000,
      "rowLimit": 10000
     },
     "inputWidgets": {},
     "nuid": "465952c7-9566-4b0d-937b-97973ff7623b",
     "showTitle": false,
     "title": ""
    }
   },
   "outputs": [
    {
     "output_type": "stream",
     "name": "stdout",
     "output_type": "stream",
     "text": [
      "+-----------+\n|person_name|\n+-----------+\n|  John Cena|\n+-----------+\n\n"
     ]
    }
   ],
   "source": [
    "\n",
    "windowSpec1 = Window.orderBy(F.col('turn'))\n",
    "windowSpec2 = Window.orderBy(F.col('cumm_weight'))\n",
    "\n",
    "\n",
    "df_result = (\n",
    "    df.withColumn('cumm_weight', F.sum(F.col('weight')).over(windowSpec))\n",
    "        .withColumn('rnk', F.dense_rank().over(windowSpec2))\n",
    "        .filter(F.col('cumm_weight') <= 1000)\n",
    "        .select('person_name').orderBy(F.desc(F.col('rnk')))\n",
    "        .limit(1)\n",
    ").show()\n",
    "\n"
   ]
  },
  {
   "cell_type": "markdown",
   "metadata": {
    "application/vnd.databricks.v1+cell": {
     "cellMetadata": {},
     "inputWidgets": {},
     "nuid": "ef2ae09e-724f-4375-a282-c603b4f46960",
     "showTitle": false,
     "title": ""
    }
   },
   "source": [
    "#### SQL Approach"
   ]
  },
  {
   "cell_type": "code",
   "execution_count": 0,
   "metadata": {
    "application/vnd.databricks.v1+cell": {
     "cellMetadata": {
      "byteLimit": 2048000,
      "implicitDf": true,
      "rowLimit": 10000
     },
     "inputWidgets": {},
     "nuid": "39096b06-c45e-4944-9a12-504550773c83",
     "showTitle": false,
     "title": ""
    }
   },
   "outputs": [
    {
     "output_type": "display_data",
     "data": {
      "text/html": [
       "<style scoped>\n",
       "  .table-result-container {\n",
       "    max-height: 300px;\n",
       "    overflow: auto;\n",
       "  }\n",
       "  table, th, td {\n",
       "    border: 1px solid black;\n",
       "    border-collapse: collapse;\n",
       "  }\n",
       "  th, td {\n",
       "    padding: 5px;\n",
       "  }\n",
       "  th {\n",
       "    text-align: left;\n",
       "  }\n",
       "</style><div class='table-result-container'><table class='table-result'><thead style='background-color: white'><tr><th>person_name</th></tr></thead><tbody><tr><td>John Cena</td></tr></tbody></table></div>"
      ]
     },
     "metadata": {
      "application/vnd.databricks.v1+output": {
       "addedWidgets": {},
       "aggData": [],
       "aggError": "",
       "aggOverflow": false,
       "aggSchema": [],
       "aggSeriesLimitReached": false,
       "aggType": "",
       "arguments": {},
       "columnCustomDisplayInfos": {},
       "data": [
        [
         "John Cena"
        ]
       ],
       "datasetInfos": [],
       "dbfsResultPath": null,
       "isJsonSchema": true,
       "metadata": {},
       "overflow": false,
       "plotOptions": {
        "customPlotOptions": {},
        "displayType": "table",
        "pivotAggregation": null,
        "pivotColumns": null,
        "xColumns": null,
        "yColumns": null
       },
       "removedWidgets": [],
       "schema": [
        {
         "metadata": "{}",
         "name": "person_name",
         "type": "\"string\""
        }
       ],
       "type": "table"
      }
     },
     "output_type": "display_data"
    }
   ],
   "source": [
    "\n",
    "%sql\n",
    "\n",
    "WITH cte AS\t(\n",
    "\tSELECT \n",
    "\t\t*,\n",
    "\t\tSUM(weight) OVER(ORDER BY turn) as cumm_weight\n",
    "\tFROM queue\n",
    "),cte2 AS (\n",
    "\tSELECT \n",
    "\t\t*,\n",
    "\t\tDENSE_RANK() OVER(ORDER BY cumm_weight) as rnk\n",
    "\tFROM cte\n",
    ")\n",
    "SELECT person_name FROM cte2\n",
    "WHERE cumm_weight <= 1000\n",
    "ORDER BY rnk DESC\n",
    "LIMIT 1\n"
   ]
  },
  {
   "cell_type": "code",
   "execution_count": 0,
   "metadata": {
    "application/vnd.databricks.v1+cell": {
     "cellMetadata": {},
     "inputWidgets": {},
     "nuid": "e90447e7-fb26-4f57-b4ce-04366f47bdea",
     "showTitle": false,
     "title": ""
    }
   },
   "outputs": [],
   "source": []
  }
 ],
 "metadata": {
  "application/vnd.databricks.v1+notebook": {
   "dashboards": [],
   "language": "python",
   "notebookMetadata": {
    "mostRecentlyExecutedCommandWithImplicitDF": {
     "commandId": 872777469283959,
     "dataframes": [
      "_sqldf"
     ]
    },
    "pythonIndentUnit": 4
   },
   "notebookName": "SQL 50 problem 35 - Last Person to Fit in the Bus",
   "widgets": {}
  }
 },
 "nbformat": 4,
 "nbformat_minor": 0
}
